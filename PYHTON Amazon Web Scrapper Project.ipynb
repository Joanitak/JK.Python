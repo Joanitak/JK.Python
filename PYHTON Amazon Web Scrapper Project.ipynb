{
 "cells": [
  {
   "cell_type": "code",
   "execution_count": 4,
   "id": "2b5c8135",
   "metadata": {},
   "outputs": [],
   "source": [
    "# import libraries\n",
    "\n",
    "from bs4 import BeautifulSoup\n",
    "import requests\n",
    "import time\n",
    "import datetime\n",
    "\n",
    "import smtplib"
   ]
  },
  {
   "cell_type": "code",
   "execution_count": 228,
   "id": "aea68976",
   "metadata": {
    "scrolled": true
   },
   "outputs": [
    {
     "name": "stdout",
     "output_type": "stream",
     "text": [
      "\n",
      "             Maybelline Total Temptation Eyebrow Definer Pencil, Deep Brown, 1 Count\n",
      "            \n"
     ]
    }
   ],
   "source": [
    "URL = 'https://www.amazon.com/Maybelline-Temptation-Eyebrow-Definer-Pencil/dp/B074VG89H8/ref=sr_1_5?crid=1FS0RNUDMVPNF&keywords=eyebrow%2Bpencil&qid=1684833560&sprefix=eye%2Caps%2C305&sr=8-5&th=1'\n",
    "\n",
    "headers = {\"User-Agent\": \"Mozilla/5.0 (Macintosh; Intel Mac OS X 10_15_7) AppleWebKit/605.1.15 (KHTML, like Gecko) Version/15.6 Safari/605.1.15\"}\n",
    "\n",
    "page = requests.get(URL, headers=headers)\n",
    "\n",
    "soup = BeautifulSoup(page.content, \"html.parser\")\n",
    "\n",
    "soup1 = BeautifulSoup(soup.prettify(), \"html.parser\")\n",
    "\n",
    "title = soup1.find(id='productTitle').get_text()\n",
    "\n",
    "print(title)"
   ]
  },
  {
   "cell_type": "code",
   "execution_count": null,
   "id": "d5231f05",
   "metadata": {},
   "outputs": [],
   "source": [
    "price = soup1.find(id=\"corePriceDisplay_desktop_feature_div\").get_text()\n",
    "\n",
    "print(price)"
   ]
  },
  {
   "cell_type": "code",
   "execution_count": null,
   "id": "ec6eff97",
   "metadata": {},
   "outputs": [],
   "source": [
    "price=price.strip()[:5]\n",
    "title=title.strip()\n",
    "\n",
    "print(title)\n",
    "print(price)\n",
    "type(price)"
   ]
  },
  {
   "cell_type": "code",
   "execution_count": 266,
   "id": "6922c5db",
   "metadata": {},
   "outputs": [
    {
     "name": "stdout",
     "output_type": "stream",
     "text": [
      "2023-05-23\n"
     ]
    }
   ],
   "source": [
    "import datetime\n",
    "\n",
    "today = datetime.date.today()\n",
    "\n",
    "print(today)"
   ]
  },
  {
   "cell_type": "code",
   "execution_count": 267,
   "id": "bc2fab24",
   "metadata": {},
   "outputs": [],
   "source": [
    "import csv\n",
    "\n",
    "\n",
    "header = ['Title', 'Price', 'Date']\n",
    "data = [title, price, today]\n",
    "\n",
    "with open('AmazonWebScrapperDataSet.csv', 'w', newline='') as f:\n",
    "    writer = csv.writer(f)\n",
    "    writer.writerow(header)\n",
    "    writer.writerow(data)\n",
    "\n",
    "\n"
   ]
  },
  {
   "cell_type": "code",
   "execution_count": 278,
   "id": "f7c04edc",
   "metadata": {},
   "outputs": [
    {
     "name": "stdout",
     "output_type": "stream",
     "text": [
      "  Maybelline Total Temptation Eyebrow Definer Pencil, Deep Brown, 1 Count  \\\n",
      "0  Maybelline Total Temptation Eyebrow Definer Pe...                        \n",
      "1  Maybelline Total Temptation Eyebrow Definer Pe...                        \n",
      "\n",
      "   $8.98  2023-05-23  \n",
      "0  $8.98  2023-05-23  \n",
      "1  $8.98  2023-05-23  \n"
     ]
    }
   ],
   "source": [
    "import pandas as pd\n",
    "\n",
    "df = pd.read_csv('/Users/allanmwaniki/AmazonWebScrapperDataSet.csv')\n",
    "\n",
    "print(df)"
   ]
  },
  {
   "cell_type": "code",
   "execution_count": 277,
   "id": "5fa4b68f",
   "metadata": {},
   "outputs": [],
   "source": [
    "#now appending data to csv(this helps to run new data without rewriting the code)\n",
    "\n",
    "with open('AmazonWebScrapperDataSet.csv', 'a+', newline='') as f:\n",
    "    writer = csv.writer(f)\n",
    "    writer.writerow(data)"
   ]
  },
  {
   "cell_type": "code",
   "execution_count": 14,
   "id": "7e6126f8",
   "metadata": {},
   "outputs": [],
   "source": [
    "\n",
    "def check_price():\n",
    "    URL = 'https://www.amazon.com/Maybelline-Temptation-Eyebrow-Definer-Pencil/dp/B074VG89H8/ref=sr_1_5?crid=1FS0RNUDMVPNF&keywords=eyebrow%2Bpencil&qid=1684833560&sprefix=eye%2Caps%2C305&sr=8-5&th=1'\n",
    "\n",
    "    headers = {\"User-Agent\": \"Mozilla/5.0 (Macintosh; Intel Mac OS X 10_15_7) AppleWebKit/605.1.15 (KHTML, like Gecko) Version/15.6 Safari/605.1.15\"}\n",
    "\n",
    "    page = requests.get(URL, headers=headers)\n",
    "\n",
    "    soup = BeautifulSoup(page.content, \"html.parser\")\n",
    "\n",
    "    soup1 = BeautifulSoup(soup.prettify(), \"html.parser\")\n",
    "\n",
    "    title = soup1.find(id='productTitle').get_text()\n",
    "\n",
    "    price = soup1.find(id=\"corePriceDisplay_desktop_feature_div\").get_text()\n",
    "    \n",
    "    price=price.strip()[:5]\n",
    "    title=title.strip()\n",
    "    \n",
    "    import datetime\n",
    "\n",
    "    today = datetime.date.today()\n",
    "\n",
    "    import csv\n",
    "\n",
    "\n",
    "    header = ['Title', 'Price', 'Date']\n",
    "    data = [title, price, today]\n",
    "    \n",
    "    \n",
    "    with open('AmazonWebScrapperDataSet.csv', 'a+', newline='') as f:\n",
    "        writer = csv.writer(f)\n",
    "        writer.writerow(data)\n",
    "        \n",
    "    if (price < $3):\n",
    "        send_mail()\n",
    "    \n",
    "    \n",
    "    \n",
    "    "
   ]
  },
  {
   "cell_type": "code",
   "execution_count": null,
   "id": "7638a988",
   "metadata": {},
   "outputs": [],
   "source": [
    "while(True):\n",
    "    check_price()\n",
    "    time.sleep(86400)"
   ]
  },
  {
   "cell_type": "code",
   "execution_count": 12,
   "id": "1307339e",
   "metadata": {
    "scrolled": true
   },
   "outputs": [
    {
     "name": "stdout",
     "output_type": "stream",
     "text": [
      "  Maybelline Total Temptation Eyebrow Definer Pencil, Deep Brown, 1 Count  \\\n",
      "0  Maybelline Total Temptation Eyebrow Definer Pe...                        \n",
      "1  Maybelline Total Temptation Eyebrow Definer Pe...                        \n",
      "\n",
      "   $8.98  2023-05-23  \n",
      "0  $8.98  2023-05-23  \n",
      "1  $8.98  2023-05-23  \n"
     ]
    }
   ],
   "source": [
    "import pandas as pd\n",
    "\n",
    "df = pd.read_csv('/Users/allanmwaniki/AmazonWebScrapperDataSet.csv')\n",
    "\n",
    "print(df)"
   ]
  },
  {
   "cell_type": "code",
   "execution_count": null,
   "id": "f5b7c69d",
   "metadata": {},
   "outputs": [],
   "source": [
    "def send_mail():\n",
    "    server = smtplib.SMTP_SSL('smtp.gmail.com', 465)\n",
    "    server.ehlo()\n",
    "    #server.starttls()\n",
    "    server.ehlo()\n",
    "    server.login('joanitakisembo.jk@gmail.com', 'Kj.0783360313')\n",
    "    \n",
    "    subject = \"The eyebrow pwencil you want is now below $3! Now is your chance to buy!\"\n",
    "    body = \"Joanita, this is your chance to buy the Maybelline Eyebrow Pencil. Do not miss out on this opportunity\"\n",
    "    \n",
    "    msg = f\"subject: {subject}\\n\\n\\n{body}\"\n",
    "    \n",
    "    server.sendmail(\n",
    "          'joanitakisembo.jk@gmail.com',\n",
    "          msg\n",
    "    )\n",
    "    "
   ]
  },
  {
   "cell_type": "code",
   "execution_count": null,
   "id": "0efcfcc3",
   "metadata": {},
   "outputs": [],
   "source": []
  },
  {
   "cell_type": "code",
   "execution_count": null,
   "id": "16f5d46d",
   "metadata": {},
   "outputs": [],
   "source": []
  },
  {
   "cell_type": "code",
   "execution_count": null,
   "id": "dd48b933",
   "metadata": {},
   "outputs": [],
   "source": []
  },
  {
   "cell_type": "code",
   "execution_count": null,
   "id": "1697cb8f",
   "metadata": {},
   "outputs": [],
   "source": []
  },
  {
   "cell_type": "code",
   "execution_count": null,
   "id": "276d3128",
   "metadata": {},
   "outputs": [],
   "source": []
  },
  {
   "cell_type": "code",
   "execution_count": null,
   "id": "1fa0c0d2",
   "metadata": {},
   "outputs": [],
   "source": []
  },
  {
   "cell_type": "code",
   "execution_count": null,
   "id": "870ef51e",
   "metadata": {},
   "outputs": [],
   "source": []
  },
  {
   "cell_type": "code",
   "execution_count": null,
   "id": "26cd3575",
   "metadata": {},
   "outputs": [],
   "source": []
  },
  {
   "cell_type": "code",
   "execution_count": null,
   "id": "f5702ec2",
   "metadata": {},
   "outputs": [],
   "source": []
  },
  {
   "cell_type": "code",
   "execution_count": null,
   "id": "6ccc8fac",
   "metadata": {},
   "outputs": [],
   "source": []
  },
  {
   "cell_type": "code",
   "execution_count": null,
   "id": "45faff9f",
   "metadata": {},
   "outputs": [],
   "source": []
  },
  {
   "cell_type": "code",
   "execution_count": null,
   "id": "1cc7f2f1",
   "metadata": {},
   "outputs": [],
   "source": []
  }
 ],
 "metadata": {
  "kernelspec": {
   "display_name": "Python 3 (ipykernel)",
   "language": "python",
   "name": "python3"
  },
  "language_info": {
   "codemirror_mode": {
    "name": "ipython",
    "version": 3
   },
   "file_extension": ".py",
   "mimetype": "text/x-python",
   "name": "python",
   "nbconvert_exporter": "python",
   "pygments_lexer": "ipython3",
   "version": "3.10.9"
  }
 },
 "nbformat": 4,
 "nbformat_minor": 5
}
